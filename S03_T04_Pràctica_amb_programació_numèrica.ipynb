{
  "nbformat": 4,
  "nbformat_minor": 0,
  "metadata": {
    "colab": {
      "name": "S03 T04: Pràctica amb programació numèrica.ipynb",
      "provenance": [],
      "authorship_tag": "ABX9TyNaG9rrt4BMFvY9QbkT4/89",
      "include_colab_link": true
    },
    "kernelspec": {
      "name": "python3",
      "display_name": "Python 3"
    },
    "language_info": {
      "name": "python"
    }
  },
  "cells": [
    {
      "cell_type": "markdown",
      "metadata": {
        "id": "view-in-github",
        "colab_type": "text"
      },
      "source": [
        "<a href=\"https://colab.research.google.com/github/philthefeel/Practica_amb_programacio_numerica/blob/main/S03_T04_Pr%C3%A0ctica_amb_programaci%C3%B3_num%C3%A8rica.ipynb\" target=\"_parent\"><img src=\"https://colab.research.google.com/assets/colab-badge.svg\" alt=\"Open In Colab\"/></a>"
      ]
    },
    {
      "cell_type": "markdown",
      "metadata": {
        "id": "ytRNPXBZ-k2l"
      },
      "source": [
        "# Exercici 1\n",
        "- Crea una funció que donat un Array d’una dimensió, et faci un resum estadístic bàsic de les dades. Si detecta que l’array té més d’una dimensió, ha de mostrar un missatge d’error.\n",
        "\n",
        "\n"
      ]
    },
    {
      "cell_type": "code",
      "metadata": {
        "id": "tNjW4ojr_YFz"
      },
      "source": [
        "import numpy as np\n",
        "from scipy import stats as stat"
      ],
      "execution_count": 1,
      "outputs": []
    },
    {
      "cell_type": "code",
      "metadata": {
        "id": "UfNul_zQAgDG"
      },
      "source": [
        "def descrip_stats(npArray):\n",
        "    '''\n",
        "    Performing multiple Descriptive statistics from a matrix of 1 dim\n",
        "    '''\n",
        "    if npArray.ndim == 1:\n",
        "      print(\"Size = {} \\n\".format(npArray.size),\n",
        "            \"[Min, Max] = [{} {}]\\n\".format(np.min(npArray), np.max(npArray)),\n",
        "            \"IQR = {}\\n\".format(stat.iqr(npArray)),\n",
        "            \"Median = {}\\n\".format(np.median(npArray)),\n",
        "            \"Mean = {}\\n\".format(np.mean(npArray)),\n",
        "            \"SD = {}\\n\".format(round(np.std(npArray)),2),\n",
        "            \"Varianza = {}\\n\".format(np.var(npArray))\n",
        "      )\n",
        "    else:\n",
        "      print(\"ERROR: ARRAY SHOULD HAVE 1 DIMENSION, INSTEAD OF {} DIMENSION\".format(npArray.ndim))\n",
        "\n"
      ],
      "execution_count": 10,
      "outputs": []
    },
    {
      "cell_type": "code",
      "metadata": {
        "colab": {
          "base_uri": "https://localhost:8080/"
        },
        "id": "yo82daWqBA8_",
        "outputId": "d5e021aa-df52-4ce6-b72a-8502be9f0b49"
      },
      "source": [
        "npArray_test1 = np.array(range(1,5))\n",
        "print(npArray_test1)\n",
        "descrip_stats(npArray_test1)"
      ],
      "execution_count": 4,
      "outputs": [
        {
          "output_type": "stream",
          "name": "stdout",
          "text": [
            "[1 2 3 4]\n",
            "Size = 4 \n",
            " [Min, Max] = [1 4]\n",
            " IQR = 1.5\n",
            " Median = 2.5\n",
            " Mean = 2.5\n",
            " SD = 1\n",
            " Varianza = 1.25\n",
            "\n"
          ]
        }
      ]
    },
    {
      "cell_type": "code",
      "metadata": {
        "colab": {
          "base_uri": "https://localhost:8080/"
        },
        "id": "Pt5FqPEJBRYB",
        "outputId": "60f4b386-c35a-4a56-9b26-fc7f471c9022"
      },
      "source": [
        "npArray_test2 = np.array([range(1,4), range(1,4)])\n",
        "print(npArray_test2)\n",
        "descrip_stats(npArray_test2)"
      ],
      "execution_count": 11,
      "outputs": [
        {
          "output_type": "stream",
          "name": "stdout",
          "text": [
            "[[1 2 3]\n",
            " [1 2 3]]\n",
            "ERROR: ARRAY SHOULD HAVE 1 DIMENSION, INSTEAD OF 2 DIMENSION\n"
          ]
        }
      ]
    },
    {
      "cell_type": "code",
      "metadata": {
        "colab": {
          "base_uri": "https://localhost:8080/"
        },
        "id": "x2QNES_GDH_7",
        "outputId": "6615c08e-f64f-4c62-d8fd-fcf6dd9e671f"
      },
      "source": [
        "npArray_test0 = np.array(3)\n",
        "print(npArray_test0)\n",
        "descrip_stats(npArray_test0)"
      ],
      "execution_count": 13,
      "outputs": [
        {
          "output_type": "stream",
          "name": "stdout",
          "text": [
            "3\n",
            "ERROR: ARRAY SHOULD HAVE 1 DIMENSION, INSTEAD OF 0 DIMENSION\n"
          ]
        }
      ]
    },
    {
      "cell_type": "markdown",
      "metadata": {
        "id": "agPvcJWe_DEw"
      },
      "source": [
        "# Exercici 2\n",
        "- Crea una funció que et generi un quadrat NxN de nombres aleatoris entre el 0 i el 100."
      ]
    },
    {
      "cell_type": "code",
      "metadata": {
        "id": "J6pYGrF-DYVn"
      },
      "source": [
        "def mtx_from_n(num):\n",
        "    '''\n",
        "    Retrieving a N x N array from a number of dimension\n",
        "    '''\n",
        "    return np.random.randint(low=0,\n",
        "                             high=100,\n",
        "                             size=(num, num),\n",
        "                             dtype=int)"
      ],
      "execution_count": 14,
      "outputs": []
    },
    {
      "cell_type": "code",
      "metadata": {
        "colab": {
          "base_uri": "https://localhost:8080/"
        },
        "id": "ckJe9QQwEZbY",
        "outputId": "dc8e8a28-df4a-4f32-9d71-4ccd4690104c"
      },
      "source": [
        "mtx_test1 = mtx_from_n(5)\n",
        "print(mtx_test1)\n",
        "mtx_test1.shape"
      ],
      "execution_count": 18,
      "outputs": [
        {
          "output_type": "stream",
          "name": "stdout",
          "text": [
            "[[85 10 19  1 60]\n",
            " [61 26 56 44 32]\n",
            " [52 45 26 94 45]\n",
            " [76 31 81 70 13]\n",
            " [24 73  7  8 56]]\n"
          ]
        },
        {
          "output_type": "execute_result",
          "data": {
            "text/plain": [
              "(5, 5)"
            ]
          },
          "metadata": {},
          "execution_count": 18
        }
      ]
    },
    {
      "cell_type": "markdown",
      "metadata": {
        "id": "JV3875pn_H3w"
      },
      "source": [
        "# Exercici 3\n",
        "- Crea una funció que donada una taula de dues dimensions, et calculi els totals per fila i els totals per columna."
      ]
    },
    {
      "cell_type": "code",
      "metadata": {
        "id": "FcZvE2eSFHwi"
      },
      "source": [
        "def colRowSum(mat2D):\n",
        "    '''\n",
        "    Retrieving from 2D: ColSum and RowSum\n",
        "    '''\n",
        "    c = np.sum(mat2D, axis=0)\n",
        "    r = np.sum(mat2D, axis=1)\n",
        "    print(\"ColSum = {}\\nRowSum = {}\\n\".format(c,r))\n",
        "\n"
      ],
      "execution_count": 21,
      "outputs": []
    },
    {
      "cell_type": "code",
      "metadata": {
        "colab": {
          "base_uri": "https://localhost:8080/"
        },
        "id": "j41H8I5YIHJu",
        "outputId": "a7f781f7-e8ba-49fa-c1d8-4c954e4188b6"
      },
      "source": [
        "mtx_2D = np.array([[1,0,3], [3,0,1]])\n",
        "print(mtx_2D)\n",
        "colRowSum(mtx_2D)"
      ],
      "execution_count": 22,
      "outputs": [
        {
          "output_type": "stream",
          "name": "stdout",
          "text": [
            "[[1 0 3]\n",
            " [3 0 1]]\n",
            "ColSum = [4 0 4]\n",
            "RowSum = [4 4]\n",
            "\n"
          ]
        }
      ]
    },
    {
      "cell_type": "markdown",
      "metadata": {
        "id": "BiRHUKwB_Qvq"
      },
      "source": [
        "# Exercici 4\n",
        "- Implementa manualment una funció que calculi el coeficient de correlació. Informa’t-en sobre els seus usos i interpretació."
      ]
    },
    {
      "cell_type": "code",
      "metadata": {
        "id": "uuBFvNND-YVk"
      },
      "source": [
        "# Creating variables to test\n",
        "var_1 = np.array([2,3,14,28])\n",
        "var_2 = np.array([30,1,5,8])\n",
        "var_3 = np.array([28,14,3,2])\n",
        "\n",
        "# Mean\n",
        "def mymean(X):\n",
        "  XMEAN = sum(X)/len(X)\n",
        "  return XMEAN\n",
        "# Variance\n",
        "def myVariance(X):\n",
        "  mean_dif = sum((X - mymean(X))**2)\n",
        "  VARIANCE = mean_dif/len(X)\n",
        "  return VARIANCE\n",
        "# SD\n",
        "def mySD(X):\n",
        "  SD = myVariance(X)**(1/2)\n",
        "  return SD"
      ],
      "execution_count": 41,
      "outputs": []
    },
    {
      "cell_type": "code",
      "metadata": {
        "id": "420D4nC2-km3"
      },
      "source": [
        "def corrTest(X, Y):\n",
        "    '''\n",
        "    Performing Correlation Coefficient \n",
        "    Values in Range -1 to 1. \n",
        "    Closer to 1 means that the correlation is strong, direct and positive\n",
        "    Closer to -1 means that the correlation is strong, inverse and negative\n",
        "    Closer to 0 means that there is a weak relation between variables \n",
        "    '''\n",
        "    Xmean = mymean(X)\n",
        "    Ymean = mymean(Y)\n",
        "    # print([Xmean, Ymean])\n",
        "    XSD = mySD(X)\n",
        "    YSD = mySD(Y)\n",
        "    # print([XSD, YSD])\n",
        "    COVARXY = (sum(X*Y) / len(X)) - (Xmean * Ymean)\n",
        "\n",
        "    RXY = COVARXY / (XSD * YSD)\n",
        "\n",
        "    return RXY"
      ],
      "execution_count": 49,
      "outputs": []
    },
    {
      "cell_type": "code",
      "metadata": {
        "colab": {
          "base_uri": "https://localhost:8080/"
        },
        "id": "DECzqVT8UhdQ",
        "outputId": "b7661c75-d2ce-4ea4-fd47-2d59bc127d8a"
      },
      "source": [
        "# When comparing the same list (both variables increase together)\n",
        "print(corrTest(var_1,var_1))\n",
        "# When comparing the list With negative list, the correlation is inverse (negative)\n",
        "print(corrTest(var_1,-var_1))\n",
        "# When comparing two different list\n",
        "print(corrTest(var_1,var_2))\n",
        "# When comparing two different list\n",
        "print(corrTest(var_3,var_2))"
      ],
      "execution_count": 47,
      "outputs": [
        {
          "output_type": "stream",
          "name": "stdout",
          "text": [
            "1.0000000000000002\n",
            "-1.0000000000000002\n",
            "-0.33880402705336293\n",
            "0.7792492622227348\n"
          ]
        }
      ]
    }
  ]
}